{
 "cells": [
  {
   "cell_type": "code",
   "execution_count": null,
   "id": "initial_id",
   "metadata": {
    "collapsed": true
   },
   "outputs": [],
   "source": [
    ""
   ]
  },
  {
   "metadata": {},
   "cell_type": "markdown",
   "source": [
    "数据描述\n",
    "邮政系统每天都会处理大量的信件，最重要的一环是根据信件上的收件人邮编进行识别和分类，以便确定信件的投送地点。原本这项任务是靠人工完成的，后来人们尝试让计算机代替人工。由于多数的邮编都是手写数字，并且样式各异，所以没有统一编制的规则可以很好地用于识别和分类。有大量研究证明，支持向量机可以在手写体数字图片的分类任务上展现量好的性能。本文以88的灰度图片，通过像素数据构成641维的特征向量，具体数字0~9作为标签训练模型。\n"
   ],
   "id": "abbcb33df2d850d1"
  },
  {
   "metadata": {},
   "cell_type": "markdown",
   "source": [
    "导入数据\n",
    "首先从 sklearn.datasets 里导入手写体数字加载器，并通过数据加载器获得手写体数字的数码图像数据，将其储存在 digits 变量中，查看数据规模和特征维度。"
   ],
   "id": "1243af0a7b79dada"
  },
  {
   "metadata": {
    "ExecuteTime": {
     "end_time": "2025-04-22T04:41:01.393347Z",
     "start_time": "2025-04-22T04:41:01.235144Z"
    }
   },
   "cell_type": "code",
   "source": [
    "from sklearn.datasets import load_digits\n",
    "digits = load_digits()\n",
    "print(digits.data.shape)\n",
    "print(digits.target.shape)\n"
   ],
   "id": "ace611e9c8e62c01",
   "outputs": [
    {
     "name": "stdout",
     "output_type": "stream",
     "text": [
      "(1797, 64)\n",
      "(1797,)\n"
     ]
    }
   ],
   "execution_count": 1
  },
  {
   "metadata": {},
   "cell_type": "markdown",
   "source": [
    "分割训练测试数据\n",
    "将数据集分割为训练集与测试集，其中测试集占 25% ，训练集占 75%"
   ],
   "id": "f2f367b2b2794c0e"
  },
  {
   "metadata": {
    "ExecuteTime": {
     "end_time": "2025-04-22T04:42:14.638636Z",
     "start_time": "2025-04-22T04:42:14.464639Z"
    }
   },
   "cell_type": "code",
   "source": [
    "from sklearn.model_selection import train_test_split\n",
    "X_train, X_test, y_train, y_test = train_test_split(digits.data, digits.target, test_size=0.25, random_state=42)\n",
    "\n"
   ],
   "id": "8307e4a6a9c8b884",
   "outputs": [],
   "execution_count": 2
  },
  {
   "metadata": {},
   "cell_type": "markdown",
   "source": "数据标准化，训练模型，预测",
   "id": "2816c916c49a9e0"
  },
  {
   "metadata": {
    "ExecuteTime": {
     "end_time": "2025-04-22T04:43:40.231857Z",
     "start_time": "2025-04-22T04:43:40.138753Z"
    }
   },
   "cell_type": "code",
   "source": [
    "from sklearn.preprocessing import StandardScaler\n",
    "from sklearn.svm import SVC\n",
    "\n",
    "# 数据标准化\n",
    "scaler = StandardScaler()\n",
    "X_train = scaler.fit_transform(X_train)\n",
    "X_test = scaler.transform(X_test)\n",
    "\n",
    "# 训练模型\n",
    "svm = SVC(kernel='linear', C=1.0)  # 线性核函数，惩罚系数 C=1.0\n",
    "svm.fit(X_train, y_train)\n",
    "# 预测\n",
    "y_pred = svm.predict(X_test)\n"
   ],
   "id": "1544f574766efa57",
   "outputs": [],
   "execution_count": 3
  },
  {
   "metadata": {},
   "cell_type": "markdown",
   "source": "模型评估",
   "id": "f95eae2a8cb9d5ce"
  },
  {
   "metadata": {
    "ExecuteTime": {
     "end_time": "2025-04-22T04:45:45.524863Z",
     "start_time": "2025-04-22T04:45:45.477930Z"
    }
   },
   "cell_type": "code",
   "source": [
    "from sklearn.metrics import classification_report, confusion_matrix\n",
    "\n",
    "print(\"混淆矩阵：\\n\",confusion_matrix(y_test, y_pred))\n",
    "print(\"分类报告：\\n\",classification_report(y_test, y_pred))\n",
    "print(\"accuracy:\", svm.score(X_test, y_test))"
   ],
   "id": "9d2ecb44ad4961bb",
   "outputs": [
    {
     "name": "stdout",
     "output_type": "stream",
     "text": [
      "混淆矩阵：\n",
      " [[43  0  0  0  0  0  0  0  0  0]\n",
      " [ 0 37  0  0  0  0  0  0  0  0]\n",
      " [ 0  0 38  0  0  0  0  0  0  0]\n",
      " [ 0  0  1 44  0  1  0  0  0  0]\n",
      " [ 0  0  0  0 55  0  0  0  0  0]\n",
      " [ 0  0  0  1  0 57  1  0  0  0]\n",
      " [ 1  0  0  0  0  0 44  0  0  0]\n",
      " [ 0  0  0  0  0  0  0 40  0  1]\n",
      " [ 0  1  0  0  0  1  0  0 36  0]\n",
      " [ 0  0  0  1  0  0  0  1  0 46]]\n",
      "分类报告：\n",
      "               precision    recall  f1-score   support\n",
      "\n",
      "           0       0.98      1.00      0.99        43\n",
      "           1       0.97      1.00      0.99        37\n",
      "           2       0.97      1.00      0.99        38\n",
      "           3       0.96      0.96      0.96        46\n",
      "           4       1.00      1.00      1.00        55\n",
      "           5       0.97      0.97      0.97        59\n",
      "           6       0.98      0.98      0.98        45\n",
      "           7       0.98      0.98      0.98        41\n",
      "           8       1.00      0.95      0.97        38\n",
      "           9       0.98      0.96      0.97        48\n",
      "\n",
      "    accuracy                           0.98       450\n",
      "   macro avg       0.98      0.98      0.98       450\n",
      "weighted avg       0.98      0.98      0.98       450\n",
      "\n",
      "accuracy: 0.9777777777777777\n"
     ]
    }
   ],
   "execution_count": 4
  }
 ],
 "metadata": {
  "kernelspec": {
   "display_name": "Python 3",
   "language": "python",
   "name": "python3"
  },
  "language_info": {
   "codemirror_mode": {
    "name": "ipython",
    "version": 2
   },
   "file_extension": ".py",
   "mimetype": "text/x-python",
   "name": "python",
   "nbconvert_exporter": "python",
   "pygments_lexer": "ipython2",
   "version": "2.7.6"
  }
 },
 "nbformat": 4,
 "nbformat_minor": 5
}
